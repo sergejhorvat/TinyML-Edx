{
  "nbformat": 4,
  "nbformat_minor": 0,
  "metadata": {
    "colab": {
      "name": "Image_Reconstruction.ipynb",
      "provenance": [],
      "collapsed_sections": [],
      "include_colab_link": true
    },
    "kernelspec": {
      "name": "python3",
      "display_name": "Python 3"
    },
    "accelerator": "GPU"
  },
  "cells": [
    {
      "cell_type": "markdown",
      "metadata": {
        "id": "view-in-github",
        "colab_type": "text"
      },
      "source": [
        "<a href=\"https://colab.research.google.com/github/sergejhorvat/TinyML-Edx/blob/main/Applications%20of%20TinyML/Image_Reconstruction.ipynb\" target=\"_parent\"><img src=\"https://colab.research.google.com/assets/colab-badge.svg\" alt=\"Open In Colab\"/></a>"
      ]
    },
    {
      "cell_type": "markdown",
      "metadata": {
        "id": "lW6GgHclSrH5"
      },
      "source": [
        "## Importing fashion mnist dataset\n",
        "We will be working on the dataset in an unsupervised way, i.e., will ignore the labels and work on training examples only."
      ]
    },
    {
      "cell_type": "code",
      "metadata": {
        "id": "W9qp1pkBLSxA"
      },
      "source": [
        "from keras.datasets import fashion_mnist"
      ],
      "execution_count": 1,
      "outputs": []
    },
    {
      "cell_type": "markdown",
      "metadata": {
        "id": "-6oGgfAtTC6V"
      },
      "source": [
        "## Importing all the libraries"
      ]
    },
    {
      "cell_type": "code",
      "metadata": {
        "id": "zJKk0f-PMf2N"
      },
      "source": [
        "import keras\n",
        "from tensorflow.keras import callbacks\n",
        "from tensorflow.keras.models import Model\n",
        "from tensorflow.keras.optimizers import Adam\n",
        "from tensorflow.keras.layers import Dense, Input\n",
        "#from keras.initializers import VarianceScaling\n",
        "#from keras.engine.topology import Layer, InputSpec\n",
        "\n",
        "#from sklearn.metrics import accuracy_score, normalized_mutual_info_score"
      ],
      "execution_count": 2,
      "outputs": []
    },
    {
      "cell_type": "markdown",
      "metadata": {
        "id": "dN8vtJ4TUS8P"
      },
      "source": [
        "### Downloading the Image data and reading it in numpy format"
      ]
    },
    {
      "cell_type": "code",
      "metadata": {
        "id": "HDATAndqTUHg",
        "colab": {
          "base_uri": "https://localhost:8080/"
        },
        "outputId": "1235b071-010f-4de3-81c9-eee1c5c56364"
      },
      "source": [
        "(train_X, train_Y), (val_X, val_Y) = fashion_mnist.load_data()"
      ],
      "execution_count": 3,
      "outputs": [
        {
          "output_type": "stream",
          "name": "stdout",
          "text": [
            "Downloading data from https://storage.googleapis.com/tensorflow/tf-keras-datasets/train-labels-idx1-ubyte.gz\n",
            "32768/29515 [=================================] - 0s 0us/step\n",
            "40960/29515 [=========================================] - 0s 0us/step\n",
            "Downloading data from https://storage.googleapis.com/tensorflow/tf-keras-datasets/train-images-idx3-ubyte.gz\n",
            "26427392/26421880 [==============================] - 0s 0us/step\n",
            "26435584/26421880 [==============================] - 0s 0us/step\n",
            "Downloading data from https://storage.googleapis.com/tensorflow/tf-keras-datasets/t10k-labels-idx1-ubyte.gz\n",
            "16384/5148 [===============================================================================================] - 0s 0us/step\n",
            "Downloading data from https://storage.googleapis.com/tensorflow/tf-keras-datasets/t10k-images-idx3-ubyte.gz\n",
            "4423680/4422102 [==============================] - 0s 0us/step\n",
            "4431872/4422102 [==============================] - 0s 0us/step\n"
          ]
        }
      ]
    },
    {
      "cell_type": "markdown",
      "metadata": {
        "id": "tAZ_t1vyU4bC"
      },
      "source": [
        "## Preprocessing of data for feeding it into the network - "
      ]
    },
    {
      "cell_type": "code",
      "metadata": {
        "id": "ZZbeja5dUqQm",
        "outputId": "6a792fb9-1374-4e90-c6fc-8f2399d63289",
        "colab": {
          "base_uri": "https://localhost:8080/"
        }
      },
      "source": [
        "# converting all the pixel values from range(0 to 255) to range(0,1)\n",
        "train_X = train_X/255.\n",
        "val_X = val_X/255.\n",
        "\n",
        "#converting the Image data into values of pixels, i.e. - image of dimension 28 X 28 to single row of 784 pixels(28x28 = 784).\n",
        "print(\"Dimension of training data before reshaping\",train_X.shape)\n",
        "train_X = train_X.reshape(-1, 784)\n",
        "val_X = val_X.reshape(-1, 784)\n",
        "print(\"Dimension of training data after reshaping\",train_X.shape)"
      ],
      "execution_count": 4,
      "outputs": [
        {
          "output_type": "stream",
          "name": "stdout",
          "text": [
            "Dimension of training data before reshaping (60000, 28, 28)\n",
            "Dimension of training data after reshaping (60000, 784)\n"
          ]
        }
      ]
    },
    {
      "cell_type": "markdown",
      "metadata": {
        "id": "y9pfhmxIcAnl"
      },
      "source": [
        "# Defining Autoencoder Model"
      ]
    },
    {
      "cell_type": "code",
      "metadata": {
        "id": "YaQwe7rgVlMO"
      },
      "source": [
        "#!pip install -q tensorflow==1.0.0-beta1\n",
        "#defining input placeholder for autoencoder model\n",
        "input_img = Input(shape=(784,))\n",
        "\n",
        "# \"enc_rep\" is the encoded representation of the input\n",
        "enc_rep = Dense(2000, activation='relu')(input_img)\n",
        "enc_rep = Dense(500, activation='relu')(enc_rep)\n",
        "enc_rep = Dense(500, activation='relu')(enc_rep)\n",
        "enc_rep = Dense(10, activation='sigmoid')(enc_rep)\n",
        "\n",
        "# \"decoded\" is the lossy reconstruction of the input from encoded representation\n",
        "decoded = Dense(500, activation='relu')(enc_rep)\n",
        "decoded = Dense(500, activation='relu')(decoded)\n",
        "decoded = Dense(2000, activation='relu')(decoded)\n",
        "decoded = Dense(784)(decoded)\n",
        "\n",
        "# this model maps an input to its reconstruction\n",
        "autoencoder = Model(input_img, decoded)"
      ],
      "execution_count": 5,
      "outputs": []
    },
    {
      "cell_type": "markdown",
      "metadata": {
        "id": "FlPjoE_vDk4F"
      },
      "source": [
        "# Structure of our autoencoder model -"
      ]
    },
    {
      "cell_type": "code",
      "metadata": {
        "id": "WEPCYOXNDP2b",
        "outputId": "2c842212-3ceb-4ecc-fc74-626b53e60964",
        "colab": {
          "base_uri": "https://localhost:8080/"
        }
      },
      "source": [
        "autoencoder.summary()"
      ],
      "execution_count": 6,
      "outputs": [
        {
          "output_type": "stream",
          "name": "stdout",
          "text": [
            "Model: \"model\"\n",
            "_________________________________________________________________\n",
            " Layer (type)                Output Shape              Param #   \n",
            "=================================================================\n",
            " input_1 (InputLayer)        [(None, 784)]             0         \n",
            "                                                                 \n",
            " dense (Dense)               (None, 2000)              1570000   \n",
            "                                                                 \n",
            " dense_1 (Dense)             (None, 500)               1000500   \n",
            "                                                                 \n",
            " dense_2 (Dense)             (None, 500)               250500    \n",
            "                                                                 \n",
            " dense_3 (Dense)             (None, 10)                5010      \n",
            "                                                                 \n",
            " dense_4 (Dense)             (None, 500)               5500      \n",
            "                                                                 \n",
            " dense_5 (Dense)             (None, 500)               250500    \n",
            "                                                                 \n",
            " dense_6 (Dense)             (None, 2000)              1002000   \n",
            "                                                                 \n",
            " dense_7 (Dense)             (None, 784)               1568784   \n",
            "                                                                 \n",
            "=================================================================\n",
            "Total params: 5,652,794\n",
            "Trainable params: 5,652,794\n",
            "Non-trainable params: 0\n",
            "_________________________________________________________________\n"
          ]
        }
      ]
    },
    {
      "cell_type": "markdown",
      "metadata": {
        "id": "dbgXVQH4ESJf"
      },
      "source": [
        "## Compiling our model "
      ]
    },
    {
      "cell_type": "code",
      "metadata": {
        "id": "Dz8c5FxQDtdY",
        "colab": {
          "base_uri": "https://localhost:8080/"
        },
        "outputId": "b57165cc-cf2a-487d-f186-82369403aceb"
      },
      "source": [
        "autoencoder.compile(optimizer=Adam(lr=0.001, beta_1=0.9, beta_2=0.999, epsilon=1e-7), loss='mse')"
      ],
      "execution_count": 7,
      "outputs": [
        {
          "output_type": "stream",
          "name": "stderr",
          "text": [
            "/usr/local/lib/python3.7/dist-packages/keras/optimizer_v2/adam.py:105: UserWarning: The `lr` argument is deprecated, use `learning_rate` instead.\n",
            "  super(Adam, self).__init__(name, **kwargs)\n"
          ]
        }
      ]
    },
    {
      "cell_type": "markdown",
      "metadata": {
        "id": "XayFQxyAa4aO"
      },
      "source": [
        "## To enable early stropping in our model...\n",
        "monitoring the validation loss and patience = 10 means for 10 continuous epochs, if validation loss will not be improved then it will stop there."
      ]
    },
    {
      "cell_type": "code",
      "metadata": {
        "id": "4Hf7wxDoEYfz"
      },
      "source": [
        "from tensorflow.keras.callbacks import EarlyStopping\n",
        "early_stopper = EarlyStopping(monitor='val_loss', min_delta=0, patience=10, verbose=1, mode='auto')\n"
      ],
      "execution_count": 8,
      "outputs": []
    },
    {
      "cell_type": "markdown",
      "metadata": {
        "id": "oNlJj6yYakuZ"
      },
      "source": [
        "## to train autoencoder on training data and validate on validation data"
      ]
    },
    {
      "cell_type": "code",
      "metadata": {
        "id": "g09mUSURIvmX",
        "colab": {
          "base_uri": "https://localhost:8080/"
        },
        "outputId": "5398fc86-025d-43e7-bff3-b728a8e74169"
      },
      "source": [
        "t_h = autoencoder.fit(train_X, train_X, epochs=500, batch_size=2048, validation_data=(val_X, val_X), callbacks=[early_stopper])"
      ],
      "execution_count": 9,
      "outputs": [
        {
          "output_type": "stream",
          "name": "stdout",
          "text": [
            "Epoch 1/500\n",
            "30/30 [==============================] - 5s 36ms/step - loss: 0.0902 - val_loss: 0.0673\n",
            "Epoch 2/500\n",
            "30/30 [==============================] - 1s 24ms/step - loss: 0.0572 - val_loss: 0.0456\n",
            "Epoch 3/500\n",
            "30/30 [==============================] - 1s 24ms/step - loss: 0.0418 - val_loss: 0.0378\n",
            "Epoch 4/500\n",
            "30/30 [==============================] - 1s 24ms/step - loss: 0.0372 - val_loss: 0.0353\n",
            "Epoch 5/500\n",
            "30/30 [==============================] - 1s 24ms/step - loss: 0.0333 - val_loss: 0.0310\n",
            "Epoch 6/500\n",
            "30/30 [==============================] - 1s 24ms/step - loss: 0.0291 - val_loss: 0.0274\n",
            "Epoch 7/500\n",
            "30/30 [==============================] - 1s 24ms/step - loss: 0.0259 - val_loss: 0.0249\n",
            "Epoch 8/500\n",
            "30/30 [==============================] - 1s 24ms/step - loss: 0.0245 - val_loss: 0.0237\n",
            "Epoch 9/500\n",
            "30/30 [==============================] - 1s 24ms/step - loss: 0.0231 - val_loss: 0.0227\n",
            "Epoch 10/500\n",
            "30/30 [==============================] - 1s 25ms/step - loss: 0.0220 - val_loss: 0.0221\n",
            "Epoch 11/500\n",
            "30/30 [==============================] - 1s 24ms/step - loss: 0.0210 - val_loss: 0.0205\n",
            "Epoch 12/500\n",
            "30/30 [==============================] - 1s 25ms/step - loss: 0.0205 - val_loss: 0.0199\n",
            "Epoch 13/500\n",
            "30/30 [==============================] - 1s 25ms/step - loss: 0.0197 - val_loss: 0.0205\n",
            "Epoch 14/500\n",
            "30/30 [==============================] - 1s 24ms/step - loss: 0.0196 - val_loss: 0.0190\n",
            "Epoch 15/500\n",
            "30/30 [==============================] - 1s 24ms/step - loss: 0.0187 - val_loss: 0.0188\n",
            "Epoch 16/500\n",
            "30/30 [==============================] - 1s 25ms/step - loss: 0.0190 - val_loss: 0.0182\n",
            "Epoch 17/500\n",
            "30/30 [==============================] - 1s 24ms/step - loss: 0.0181 - val_loss: 0.0190\n",
            "Epoch 18/500\n",
            "30/30 [==============================] - 1s 24ms/step - loss: 0.0179 - val_loss: 0.0174\n",
            "Epoch 19/500\n",
            "30/30 [==============================] - 1s 24ms/step - loss: 0.0170 - val_loss: 0.0170\n",
            "Epoch 20/500\n",
            "30/30 [==============================] - 1s 24ms/step - loss: 0.0171 - val_loss: 0.0168\n",
            "Epoch 21/500\n",
            "30/30 [==============================] - 1s 24ms/step - loss: 0.0164 - val_loss: 0.0164\n",
            "Epoch 22/500\n",
            "30/30 [==============================] - 1s 25ms/step - loss: 0.0162 - val_loss: 0.0165\n",
            "Epoch 23/500\n",
            "30/30 [==============================] - 1s 25ms/step - loss: 0.0160 - val_loss: 0.0160\n",
            "Epoch 24/500\n",
            "30/30 [==============================] - 1s 24ms/step - loss: 0.0159 - val_loss: 0.0158\n",
            "Epoch 25/500\n",
            "30/30 [==============================] - 1s 25ms/step - loss: 0.0155 - val_loss: 0.0155\n",
            "Epoch 26/500\n",
            "30/30 [==============================] - 1s 25ms/step - loss: 0.0154 - val_loss: 0.0155\n",
            "Epoch 27/500\n",
            "30/30 [==============================] - 1s 24ms/step - loss: 0.0151 - val_loss: 0.0157\n",
            "Epoch 28/500\n",
            "30/30 [==============================] - 1s 25ms/step - loss: 0.0150 - val_loss: 0.0150\n",
            "Epoch 29/500\n",
            "30/30 [==============================] - 1s 25ms/step - loss: 0.0150 - val_loss: 0.0151\n",
            "Epoch 30/500\n",
            "30/30 [==============================] - 1s 25ms/step - loss: 0.0146 - val_loss: 0.0146\n",
            "Epoch 31/500\n",
            "30/30 [==============================] - 1s 25ms/step - loss: 0.0145 - val_loss: 0.0148\n",
            "Epoch 32/500\n",
            "30/30 [==============================] - 1s 25ms/step - loss: 0.0145 - val_loss: 0.0145\n",
            "Epoch 33/500\n",
            "30/30 [==============================] - 1s 25ms/step - loss: 0.0143 - val_loss: 0.0145\n",
            "Epoch 34/500\n",
            "30/30 [==============================] - 1s 24ms/step - loss: 0.0142 - val_loss: 0.0147\n",
            "Epoch 35/500\n",
            "30/30 [==============================] - 1s 25ms/step - loss: 0.0140 - val_loss: 0.0145\n",
            "Epoch 36/500\n",
            "30/30 [==============================] - 1s 25ms/step - loss: 0.0140 - val_loss: 0.0140\n",
            "Epoch 37/500\n",
            "30/30 [==============================] - 1s 25ms/step - loss: 0.0137 - val_loss: 0.0139\n",
            "Epoch 38/500\n",
            "30/30 [==============================] - 1s 25ms/step - loss: 0.0136 - val_loss: 0.0166\n",
            "Epoch 39/500\n",
            "30/30 [==============================] - 1s 25ms/step - loss: 0.0145 - val_loss: 0.0138\n",
            "Epoch 40/500\n",
            "30/30 [==============================] - 1s 25ms/step - loss: 0.0134 - val_loss: 0.0137\n",
            "Epoch 41/500\n",
            "30/30 [==============================] - 1s 25ms/step - loss: 0.0133 - val_loss: 0.0136\n",
            "Epoch 42/500\n",
            "30/30 [==============================] - 1s 25ms/step - loss: 0.0133 - val_loss: 0.0136\n",
            "Epoch 43/500\n",
            "30/30 [==============================] - 1s 25ms/step - loss: 0.0134 - val_loss: 0.0135\n",
            "Epoch 44/500\n",
            "30/30 [==============================] - 1s 25ms/step - loss: 0.0132 - val_loss: 0.0134\n",
            "Epoch 45/500\n",
            "30/30 [==============================] - 1s 25ms/step - loss: 0.0132 - val_loss: 0.0139\n",
            "Epoch 46/500\n",
            "30/30 [==============================] - 1s 25ms/step - loss: 0.0131 - val_loss: 0.0133\n",
            "Epoch 47/500\n",
            "30/30 [==============================] - 1s 25ms/step - loss: 0.0129 - val_loss: 0.0133\n",
            "Epoch 48/500\n",
            "30/30 [==============================] - 1s 25ms/step - loss: 0.0129 - val_loss: 0.0133\n",
            "Epoch 49/500\n",
            "30/30 [==============================] - 1s 25ms/step - loss: 0.0129 - val_loss: 0.0132\n",
            "Epoch 50/500\n",
            "30/30 [==============================] - 1s 25ms/step - loss: 0.0129 - val_loss: 0.0131\n",
            "Epoch 51/500\n",
            "30/30 [==============================] - 1s 26ms/step - loss: 0.0127 - val_loss: 0.0131\n",
            "Epoch 52/500\n",
            "30/30 [==============================] - 1s 25ms/step - loss: 0.0129 - val_loss: 0.0131\n",
            "Epoch 53/500\n",
            "30/30 [==============================] - 1s 25ms/step - loss: 0.0125 - val_loss: 0.0129\n",
            "Epoch 54/500\n",
            "30/30 [==============================] - 1s 26ms/step - loss: 0.0126 - val_loss: 0.0134\n",
            "Epoch 55/500\n",
            "30/30 [==============================] - 1s 25ms/step - loss: 0.0126 - val_loss: 0.0130\n",
            "Epoch 56/500\n",
            "30/30 [==============================] - 1s 25ms/step - loss: 0.0125 - val_loss: 0.0131\n",
            "Epoch 57/500\n",
            "30/30 [==============================] - 1s 26ms/step - loss: 0.0125 - val_loss: 0.0135\n",
            "Epoch 58/500\n",
            "30/30 [==============================] - 1s 25ms/step - loss: 0.0127 - val_loss: 0.0128\n",
            "Epoch 59/500\n",
            "30/30 [==============================] - 1s 25ms/step - loss: 0.0123 - val_loss: 0.0127\n",
            "Epoch 60/500\n",
            "30/30 [==============================] - 1s 26ms/step - loss: 0.0124 - val_loss: 0.0129\n",
            "Epoch 61/500\n",
            "30/30 [==============================] - 1s 25ms/step - loss: 0.0122 - val_loss: 0.0127\n",
            "Epoch 62/500\n",
            "30/30 [==============================] - 1s 26ms/step - loss: 0.0122 - val_loss: 0.0128\n",
            "Epoch 63/500\n",
            "30/30 [==============================] - 1s 26ms/step - loss: 0.0122 - val_loss: 0.0127\n",
            "Epoch 64/500\n",
            "30/30 [==============================] - 1s 29ms/step - loss: 0.0121 - val_loss: 0.0126\n",
            "Epoch 65/500\n",
            "30/30 [==============================] - 1s 28ms/step - loss: 0.0122 - val_loss: 0.0127\n",
            "Epoch 66/500\n",
            "30/30 [==============================] - 1s 28ms/step - loss: 0.0120 - val_loss: 0.0126\n",
            "Epoch 67/500\n",
            "30/30 [==============================] - 1s 26ms/step - loss: 0.0121 - val_loss: 0.0126\n",
            "Epoch 68/500\n",
            "30/30 [==============================] - 1s 26ms/step - loss: 0.0121 - val_loss: 0.0125\n",
            "Epoch 69/500\n",
            "30/30 [==============================] - 1s 26ms/step - loss: 0.0120 - val_loss: 0.0125\n",
            "Epoch 70/500\n",
            "30/30 [==============================] - 1s 26ms/step - loss: 0.0120 - val_loss: 0.0126\n",
            "Epoch 71/500\n",
            "30/30 [==============================] - 1s 26ms/step - loss: 0.0118 - val_loss: 0.0124\n",
            "Epoch 72/500\n",
            "30/30 [==============================] - 1s 26ms/step - loss: 0.0118 - val_loss: 0.0125\n",
            "Epoch 73/500\n",
            "30/30 [==============================] - 1s 26ms/step - loss: 0.0120 - val_loss: 0.0124\n",
            "Epoch 74/500\n",
            "30/30 [==============================] - 1s 26ms/step - loss: 0.0117 - val_loss: 0.0123\n",
            "Epoch 75/500\n",
            "30/30 [==============================] - 1s 26ms/step - loss: 0.0119 - val_loss: 0.0123\n",
            "Epoch 76/500\n",
            "30/30 [==============================] - 1s 26ms/step - loss: 0.0117 - val_loss: 0.0125\n",
            "Epoch 77/500\n",
            "30/30 [==============================] - 1s 26ms/step - loss: 0.0117 - val_loss: 0.0124\n",
            "Epoch 78/500\n",
            "30/30 [==============================] - 1s 26ms/step - loss: 0.0118 - val_loss: 0.0124\n",
            "Epoch 79/500\n",
            "30/30 [==============================] - 1s 26ms/step - loss: 0.0116 - val_loss: 0.0122\n",
            "Epoch 80/500\n",
            "30/30 [==============================] - 1s 26ms/step - loss: 0.0116 - val_loss: 0.0121\n",
            "Epoch 81/500\n",
            "30/30 [==============================] - 1s 26ms/step - loss: 0.0118 - val_loss: 0.0122\n",
            "Epoch 82/500\n",
            "30/30 [==============================] - 1s 27ms/step - loss: 0.0114 - val_loss: 0.0122\n",
            "Epoch 83/500\n",
            "30/30 [==============================] - 1s 26ms/step - loss: 0.0115 - val_loss: 0.0121\n",
            "Epoch 84/500\n",
            "30/30 [==============================] - 1s 27ms/step - loss: 0.0115 - val_loss: 0.0121\n",
            "Epoch 85/500\n",
            "30/30 [==============================] - 1s 27ms/step - loss: 0.0114 - val_loss: 0.0121\n",
            "Epoch 86/500\n",
            "30/30 [==============================] - 1s 26ms/step - loss: 0.0115 - val_loss: 0.0120\n",
            "Epoch 87/500\n",
            "30/30 [==============================] - 1s 26ms/step - loss: 0.0114 - val_loss: 0.0124\n",
            "Epoch 88/500\n",
            "30/30 [==============================] - 1s 26ms/step - loss: 0.0115 - val_loss: 0.0120\n",
            "Epoch 89/500\n",
            "30/30 [==============================] - 1s 26ms/step - loss: 0.0113 - val_loss: 0.0120\n",
            "Epoch 90/500\n",
            "30/30 [==============================] - 1s 26ms/step - loss: 0.0113 - val_loss: 0.0120\n",
            "Epoch 91/500\n",
            "30/30 [==============================] - 1s 26ms/step - loss: 0.0112 - val_loss: 0.0121\n",
            "Epoch 92/500\n",
            "30/30 [==============================] - 1s 26ms/step - loss: 0.0116 - val_loss: 0.0120\n",
            "Epoch 93/500\n",
            "30/30 [==============================] - 1s 26ms/step - loss: 0.0112 - val_loss: 0.0120\n",
            "Epoch 94/500\n",
            "30/30 [==============================] - 1s 26ms/step - loss: 0.0112 - val_loss: 0.0119\n",
            "Epoch 95/500\n",
            "30/30 [==============================] - 1s 27ms/step - loss: 0.0112 - val_loss: 0.0121\n",
            "Epoch 96/500\n",
            "30/30 [==============================] - 1s 27ms/step - loss: 0.0113 - val_loss: 0.0121\n",
            "Epoch 97/500\n",
            "30/30 [==============================] - 1s 27ms/step - loss: 0.0111 - val_loss: 0.0118\n",
            "Epoch 98/500\n",
            "30/30 [==============================] - 1s 27ms/step - loss: 0.0110 - val_loss: 0.0120\n",
            "Epoch 99/500\n",
            "30/30 [==============================] - 1s 26ms/step - loss: 0.0112 - val_loss: 0.0119\n",
            "Epoch 100/500\n",
            "30/30 [==============================] - 1s 27ms/step - loss: 0.0111 - val_loss: 0.0118\n",
            "Epoch 101/500\n",
            "30/30 [==============================] - 1s 27ms/step - loss: 0.0111 - val_loss: 0.0119\n",
            "Epoch 102/500\n",
            "30/30 [==============================] - 1s 27ms/step - loss: 0.0110 - val_loss: 0.0117\n",
            "Epoch 103/500\n",
            "30/30 [==============================] - 1s 27ms/step - loss: 0.0110 - val_loss: 0.0117\n",
            "Epoch 104/500\n",
            "30/30 [==============================] - 1s 27ms/step - loss: 0.0112 - val_loss: 0.0119\n",
            "Epoch 105/500\n",
            "30/30 [==============================] - 1s 26ms/step - loss: 0.0109 - val_loss: 0.0117\n",
            "Epoch 106/500\n",
            "30/30 [==============================] - 1s 27ms/step - loss: 0.0109 - val_loss: 0.0118\n",
            "Epoch 107/500\n",
            "30/30 [==============================] - 1s 27ms/step - loss: 0.0109 - val_loss: 0.0125\n",
            "Epoch 108/500\n",
            "30/30 [==============================] - 1s 27ms/step - loss: 0.0111 - val_loss: 0.0117\n",
            "Epoch 109/500\n",
            "30/30 [==============================] - 1s 27ms/step - loss: 0.0108 - val_loss: 0.0118\n",
            "Epoch 110/500\n",
            "30/30 [==============================] - 1s 27ms/step - loss: 0.0109 - val_loss: 0.0116\n",
            "Epoch 111/500\n",
            "30/30 [==============================] - 1s 27ms/step - loss: 0.0109 - val_loss: 0.0122\n",
            "Epoch 112/500\n",
            "30/30 [==============================] - 1s 27ms/step - loss: 0.0109 - val_loss: 0.0117\n",
            "Epoch 113/500\n",
            "30/30 [==============================] - 1s 27ms/step - loss: 0.0107 - val_loss: 0.0118\n",
            "Epoch 114/500\n",
            "30/30 [==============================] - 1s 27ms/step - loss: 0.0108 - val_loss: 0.0117\n",
            "Epoch 115/500\n",
            "30/30 [==============================] - 1s 27ms/step - loss: 0.0108 - val_loss: 0.0122\n",
            "Epoch 116/500\n",
            "30/30 [==============================] - 1s 27ms/step - loss: 0.0108 - val_loss: 0.0116\n",
            "Epoch 117/500\n",
            "30/30 [==============================] - 1s 27ms/step - loss: 0.0107 - val_loss: 0.0116\n",
            "Epoch 118/500\n",
            "30/30 [==============================] - 1s 26ms/step - loss: 0.0107 - val_loss: 0.0118\n",
            "Epoch 119/500\n",
            "30/30 [==============================] - 1s 27ms/step - loss: 0.0108 - val_loss: 0.0116\n",
            "Epoch 120/500\n",
            "30/30 [==============================] - 1s 27ms/step - loss: 0.0108 - val_loss: 0.0118\n",
            "Epoch 121/500\n",
            "30/30 [==============================] - 1s 26ms/step - loss: 0.0107 - val_loss: 0.0115\n",
            "Epoch 122/500\n",
            "30/30 [==============================] - 1s 27ms/step - loss: 0.0106 - val_loss: 0.0115\n",
            "Epoch 123/500\n",
            "30/30 [==============================] - 1s 27ms/step - loss: 0.0107 - val_loss: 0.0117\n",
            "Epoch 124/500\n",
            "30/30 [==============================] - 1s 27ms/step - loss: 0.0106 - val_loss: 0.0115\n",
            "Epoch 125/500\n",
            "30/30 [==============================] - 1s 26ms/step - loss: 0.0106 - val_loss: 0.0117\n",
            "Epoch 126/500\n",
            "30/30 [==============================] - 1s 27ms/step - loss: 0.0107 - val_loss: 0.0115\n",
            "Epoch 127/500\n",
            "30/30 [==============================] - 1s 26ms/step - loss: 0.0106 - val_loss: 0.0116\n",
            "Epoch 128/500\n",
            "30/30 [==============================] - 1s 26ms/step - loss: 0.0106 - val_loss: 0.0115\n",
            "Epoch 129/500\n",
            "30/30 [==============================] - 1s 27ms/step - loss: 0.0105 - val_loss: 0.0116\n",
            "Epoch 130/500\n",
            "30/30 [==============================] - 1s 27ms/step - loss: 0.0106 - val_loss: 0.0116\n",
            "Epoch 131/500\n",
            "30/30 [==============================] - 1s 27ms/step - loss: 0.0105 - val_loss: 0.0119\n",
            "Epoch 132/500\n",
            "30/30 [==============================] - 1s 27ms/step - loss: 0.0107 - val_loss: 0.0118\n",
            "Epoch 133/500\n",
            "30/30 [==============================] - 1s 27ms/step - loss: 0.0105 - val_loss: 0.0115\n",
            "Epoch 134/500\n",
            "30/30 [==============================] - 1s 27ms/step - loss: 0.0104 - val_loss: 0.0115\n",
            "Epoch 135/500\n",
            "30/30 [==============================] - 1s 27ms/step - loss: 0.0105 - val_loss: 0.0116\n",
            "Epoch 136/500\n",
            "30/30 [==============================] - 1s 27ms/step - loss: 0.0104 - val_loss: 0.0118\n",
            "Epoch 137/500\n",
            "30/30 [==============================] - 1s 26ms/step - loss: 0.0104 - val_loss: 0.0115\n",
            "Epoch 138/500\n",
            "30/30 [==============================] - 1s 26ms/step - loss: 0.0105 - val_loss: 0.0115\n",
            "Epoch 139/500\n",
            "30/30 [==============================] - 1s 26ms/step - loss: 0.0104 - val_loss: 0.0114\n",
            "Epoch 140/500\n",
            "30/30 [==============================] - 1s 26ms/step - loss: 0.0104 - val_loss: 0.0115\n",
            "Epoch 141/500\n",
            "30/30 [==============================] - 1s 26ms/step - loss: 0.0103 - val_loss: 0.0114\n",
            "Epoch 142/500\n",
            "30/30 [==============================] - 1s 27ms/step - loss: 0.0105 - val_loss: 0.0115\n",
            "Epoch 143/500\n",
            "30/30 [==============================] - 1s 27ms/step - loss: 0.0103 - val_loss: 0.0116\n",
            "Epoch 144/500\n",
            "30/30 [==============================] - 1s 26ms/step - loss: 0.0103 - val_loss: 0.0114\n",
            "Epoch 145/500\n",
            "30/30 [==============================] - 1s 26ms/step - loss: 0.0104 - val_loss: 0.0115\n",
            "Epoch 146/500\n",
            "30/30 [==============================] - 1s 26ms/step - loss: 0.0103 - val_loss: 0.0114\n",
            "Epoch 147/500\n",
            "30/30 [==============================] - 1s 26ms/step - loss: 0.0103 - val_loss: 0.0114\n",
            "Epoch 148/500\n",
            "30/30 [==============================] - 1s 26ms/step - loss: 0.0103 - val_loss: 0.0114\n",
            "Epoch 149/500\n",
            "30/30 [==============================] - 1s 26ms/step - loss: 0.0102 - val_loss: 0.0114\n",
            "Epoch 150/500\n",
            "30/30 [==============================] - 1s 26ms/step - loss: 0.0103 - val_loss: 0.0115\n",
            "Epoch 151/500\n",
            "30/30 [==============================] - 1s 26ms/step - loss: 0.0103 - val_loss: 0.0122\n",
            "Epoch 152/500\n",
            "30/30 [==============================] - 1s 26ms/step - loss: 0.0104 - val_loss: 0.0113\n",
            "Epoch 153/500\n",
            "30/30 [==============================] - 1s 26ms/step - loss: 0.0101 - val_loss: 0.0114\n",
            "Epoch 154/500\n",
            "30/30 [==============================] - 1s 26ms/step - loss: 0.0103 - val_loss: 0.0113\n",
            "Epoch 155/500\n",
            "30/30 [==============================] - 1s 26ms/step - loss: 0.0102 - val_loss: 0.0118\n",
            "Epoch 156/500\n",
            "30/30 [==============================] - 1s 26ms/step - loss: 0.0103 - val_loss: 0.0114\n",
            "Epoch 157/500\n",
            "30/30 [==============================] - 1s 26ms/step - loss: 0.0101 - val_loss: 0.0115\n",
            "Epoch 158/500\n",
            "30/30 [==============================] - 1s 26ms/step - loss: 0.0101 - val_loss: 0.0115\n",
            "Epoch 159/500\n",
            "30/30 [==============================] - 1s 26ms/step - loss: 0.0102 - val_loss: 0.0113\n",
            "Epoch 160/500\n",
            "30/30 [==============================] - 1s 26ms/step - loss: 0.0101 - val_loss: 0.0114\n",
            "Epoch 161/500\n",
            "30/30 [==============================] - 1s 26ms/step - loss: 0.0102 - val_loss: 0.0113\n",
            "Epoch 162/500\n",
            "30/30 [==============================] - 1s 26ms/step - loss: 0.0100 - val_loss: 0.0114\n",
            "Epoch 163/500\n",
            "30/30 [==============================] - 1s 26ms/step - loss: 0.0102 - val_loss: 0.0113\n",
            "Epoch 164/500\n",
            "30/30 [==============================] - 1s 26ms/step - loss: 0.0101 - val_loss: 0.0114\n",
            "Epoch 165/500\n",
            "30/30 [==============================] - 1s 25ms/step - loss: 0.0102 - val_loss: 0.0113\n",
            "Epoch 166/500\n",
            "30/30 [==============================] - 1s 26ms/step - loss: 0.0100 - val_loss: 0.0114\n",
            "Epoch 167/500\n",
            "30/30 [==============================] - 1s 26ms/step - loss: 0.0101 - val_loss: 0.0114\n",
            "Epoch 168/500\n",
            "30/30 [==============================] - 1s 27ms/step - loss: 0.0100 - val_loss: 0.0113\n",
            "Epoch 169/500\n",
            "30/30 [==============================] - 1s 26ms/step - loss: 0.0102 - val_loss: 0.0114\n",
            "Epoch 170/500\n",
            "30/30 [==============================] - 1s 26ms/step - loss: 0.0100 - val_loss: 0.0112\n",
            "Epoch 171/500\n",
            "30/30 [==============================] - 1s 27ms/step - loss: 0.0100 - val_loss: 0.0114\n",
            "Epoch 172/500\n",
            "30/30 [==============================] - 1s 26ms/step - loss: 0.0100 - val_loss: 0.0114\n",
            "Epoch 173/500\n",
            "30/30 [==============================] - 1s 26ms/step - loss: 0.0100 - val_loss: 0.0112\n",
            "Epoch 174/500\n",
            "30/30 [==============================] - 1s 26ms/step - loss: 0.0100 - val_loss: 0.0114\n",
            "Epoch 175/500\n",
            "30/30 [==============================] - 1s 26ms/step - loss: 0.0100 - val_loss: 0.0112\n",
            "Epoch 176/500\n",
            "30/30 [==============================] - 1s 27ms/step - loss: 0.0099 - val_loss: 0.0113\n",
            "Epoch 177/500\n",
            "30/30 [==============================] - 1s 26ms/step - loss: 0.0100 - val_loss: 0.0116\n",
            "Epoch 178/500\n",
            "30/30 [==============================] - 1s 26ms/step - loss: 0.0100 - val_loss: 0.0112\n",
            "Epoch 179/500\n",
            "30/30 [==============================] - 1s 26ms/step - loss: 0.0101 - val_loss: 0.0113\n",
            "Epoch 180/500\n",
            "30/30 [==============================] - 1s 27ms/step - loss: 0.0099 - val_loss: 0.0112\n",
            "Epoch 181/500\n",
            "30/30 [==============================] - 1s 26ms/step - loss: 0.0099 - val_loss: 0.0117\n",
            "Epoch 182/500\n",
            "30/30 [==============================] - 1s 26ms/step - loss: 0.0099 - val_loss: 0.0112\n",
            "Epoch 183/500\n",
            "30/30 [==============================] - 1s 26ms/step - loss: 0.0099 - val_loss: 0.0112\n",
            "Epoch 184/500\n",
            "30/30 [==============================] - 1s 26ms/step - loss: 0.0099 - val_loss: 0.0112\n",
            "Epoch 185/500\n",
            "30/30 [==============================] - 1s 26ms/step - loss: 0.0098 - val_loss: 0.0113\n",
            "Epoch 186/500\n",
            "30/30 [==============================] - 1s 26ms/step - loss: 0.0099 - val_loss: 0.0113\n",
            "Epoch 187/500\n",
            "30/30 [==============================] - 1s 27ms/step - loss: 0.0100 - val_loss: 0.0113\n",
            "Epoch 188/500\n",
            "30/30 [==============================] - 1s 26ms/step - loss: 0.0098 - val_loss: 0.0112\n",
            "Epoch 189/500\n",
            "30/30 [==============================] - 1s 26ms/step - loss: 0.0098 - val_loss: 0.0113\n",
            "Epoch 190/500\n",
            "30/30 [==============================] - 1s 26ms/step - loss: 0.0100 - val_loss: 0.0112\n",
            "Epoch 191/500\n",
            "30/30 [==============================] - 1s 26ms/step - loss: 0.0098 - val_loss: 0.0112\n",
            "Epoch 192/500\n",
            "30/30 [==============================] - 1s 26ms/step - loss: 0.0099 - val_loss: 0.0112\n",
            "Epoch 193/500\n",
            "30/30 [==============================] - 1s 26ms/step - loss: 0.0098 - val_loss: 0.0114\n",
            "Epoch 194/500\n",
            "30/30 [==============================] - 1s 26ms/step - loss: 0.0099 - val_loss: 0.0112\n",
            "Epoch 195/500\n",
            "30/30 [==============================] - 1s 27ms/step - loss: 0.0097 - val_loss: 0.0112\n",
            "Epoch 196/500\n",
            "30/30 [==============================] - 1s 26ms/step - loss: 0.0098 - val_loss: 0.0113\n",
            "Epoch 197/500\n",
            "30/30 [==============================] - 1s 26ms/step - loss: 0.0097 - val_loss: 0.0113\n",
            "Epoch 198/500\n",
            "30/30 [==============================] - 1s 26ms/step - loss: 0.0098 - val_loss: 0.0112\n",
            "Epoch 199/500\n",
            "30/30 [==============================] - 1s 26ms/step - loss: 0.0097 - val_loss: 0.0113\n",
            "Epoch 200/500\n",
            "30/30 [==============================] - 1s 27ms/step - loss: 0.0098 - val_loss: 0.0112\n",
            "Epoch 201/500\n",
            "30/30 [==============================] - 1s 26ms/step - loss: 0.0097 - val_loss: 0.0112\n",
            "Epoch 201: early stopping\n"
          ]
        }
      ]
    },
    {
      "cell_type": "markdown",
      "metadata": {
        "id": "MxjCPKUMaYeo"
      },
      "source": [
        "## To predict images..."
      ]
    },
    {
      "cell_type": "code",
      "metadata": {
        "id": "3PdRrH8_JmEW"
      },
      "source": [
        "# to predict the reconstructed images for the original images...\n",
        "pred = autoencoder.predict(val_X)"
      ],
      "execution_count": 10,
      "outputs": []
    },
    {
      "cell_type": "markdown",
      "metadata": {
        "id": "XHnVJh7OaP58"
      },
      "source": [
        "# To compare the original and reconstructed images...."
      ]
    },
    {
      "cell_type": "code",
      "metadata": {
        "id": "b67Whu1wr-u5",
        "colab": {
          "base_uri": "https://localhost:8080/",
          "height": 307
        },
        "outputId": "a45bebf1-2a5c-4ff1-d736-a0bc1ab7a212"
      },
      "source": [
        "import matplotlib.pyplot as plt\n",
        "# to visualize original images\n",
        "plt.figure(figsize=(10, 10))\n",
        "for i in range(5):\n",
        "    plt.subplot(1, 5, i+1)\n",
        "    plt.xticks([]) # to remove x-axis  the [] empty list indicates this\n",
        "    plt.yticks([]) # to remove y-axis\n",
        "    plt.grid(False) # to remove grid\n",
        "    plt.imshow(val_X[i].reshape(28, 28)) #display the image \n",
        "plt.tight_layout() # to have a proper space in the subplots\n",
        "plt.show()\n",
        "\n",
        "# to visualize reconstructed images(output of autoencoder)\n",
        "plt.figure(figsize=(10, 10))\n",
        "for i in range(5):\n",
        "    plt.subplot(1, 5, i+1)\n",
        "    plt.xticks([]) # to remove x-axis  the [] empty list indicates this\n",
        "    plt.yticks([]) # to remove y-axis\n",
        "    plt.grid(False) # to remove grid\n",
        "    plt.imshow(pred[i].reshape(28, 28)) #display the image \n",
        "plt.tight_layout() # to have a proper space in the subplots\n",
        "plt.show()"
      ],
      "execution_count": 11,
      "outputs": [
        {
          "output_type": "display_data",
          "data": {
            "text/plain": [
              "<Figure size 720x720 with 5 Axes>"
            ],
            "image/png": "[encoded data removed]"
          },
          "metadata": {}
        },
        {
          "output_type": "display_data",
          "data": {
            "text/plain": [
              "<Figure size 720x720 with 5 Axes>"
            ],
            "image/png": "[encoded data removed]"
          },
          "metadata": {}
        }
      ]
    },
    {
      "cell_type": "code",
      "metadata": {
        "id": "_IFeIN2g0m0R"
      },
      "source": [
        ""
      ],
      "execution_count": 11,
      "outputs": []
    }
  ]
}